{
 "cells": [
  {
   "cell_type": "code",
   "execution_count": 1,
   "id": "dc4ea3f6",
   "metadata": {},
   "outputs": [],
   "source": [
    "import numpy as np\n",
    "import pandas as pd\n",
    "import matplotlib.pyplot as plt"
   ]
  },
  {
   "cell_type": "code",
   "execution_count": 2,
   "id": "96c60560",
   "metadata": {},
   "outputs": [
    {
     "data": {
      "text/plain": [
       "array([  311.23249087,  6393.11234169,  2601.04622323, ...,\n",
       "       -6345.17810973,  1483.91702162, 10720.1391803 ])"
      ]
     },
     "execution_count": 2,
     "metadata": {},
     "output_type": "execute_result"
    }
   ],
   "source": [
    "df=pd.read_csv(\"Linear_train_2.csv\")\n",
    "x=np.array(df.iloc[0:49999,1:21].values)\n",
    "x\n",
    "y=np.array(df.iloc[0:49999,-1].values)\n",
    "y\n",
    "\n",
    "\n"
   ]
  },
  {
   "cell_type": "code",
   "execution_count": 3,
   "id": "b9a520f7",
   "metadata": {},
   "outputs": [
    {
     "data": {
      "text/plain": [
       "array([[  311.23249087,  6393.11234169,  2601.04622323, ...,\n",
       "        -6345.17810973,  1483.91702162, 10720.1391803 ]])"
      ]
     },
     "execution_count": 3,
     "metadata": {},
     "output_type": "execute_result"
    }
   ],
   "source": [
    "y=y.reshape(1,49999)\n",
    "y\n"
   ]
  },
  {
   "cell_type": "code",
   "execution_count": 4,
   "id": "a8473865",
   "metadata": {},
   "outputs": [
    {
     "data": {
      "text/plain": [
       "(1, 49999)"
      ]
     },
     "execution_count": 4,
     "metadata": {},
     "output_type": "execute_result"
    }
   ],
   "source": [
    "y.shape"
   ]
  },
  {
   "cell_type": "code",
   "execution_count": 5,
   "id": "a34013de",
   "metadata": {},
   "outputs": [
    {
     "data": {
      "text/plain": [
       "(20, 49999)"
      ]
     },
     "execution_count": 5,
     "metadata": {},
     "output_type": "execute_result"
    }
   ],
   "source": [
    "X=x.T\n",
    "X.shape"
   ]
  },
  {
   "cell_type": "code",
   "execution_count": 6,
   "id": "27072ed3",
   "metadata": {},
   "outputs": [
    {
     "data": {
      "text/html": [
       "<div>\n",
       "<style scoped>\n",
       "    .dataframe tbody tr th:only-of-type {\n",
       "        vertical-align: middle;\n",
       "    }\n",
       "\n",
       "    .dataframe tbody tr th {\n",
       "        vertical-align: top;\n",
       "    }\n",
       "\n",
       "    .dataframe thead th {\n",
       "        text-align: right;\n",
       "    }\n",
       "</style>\n",
       "<table border=\"1\" class=\"dataframe\">\n",
       "  <thead>\n",
       "    <tr style=\"text-align: right;\">\n",
       "      <th></th>\n",
       "      <th>Unnamed: 0</th>\n",
       "      <th>A</th>\n",
       "      <th>B</th>\n",
       "      <th>C</th>\n",
       "      <th>D</th>\n",
       "      <th>E</th>\n",
       "      <th>F</th>\n",
       "      <th>G</th>\n",
       "      <th>H</th>\n",
       "      <th>I</th>\n",
       "      <th>...</th>\n",
       "      <th>L</th>\n",
       "      <th>M</th>\n",
       "      <th>N</th>\n",
       "      <th>O</th>\n",
       "      <th>P</th>\n",
       "      <th>Q</th>\n",
       "      <th>R</th>\n",
       "      <th>S</th>\n",
       "      <th>T</th>\n",
       "      <th>label</th>\n",
       "    </tr>\n",
       "  </thead>\n",
       "  <tbody>\n",
       "    <tr>\n",
       "      <th>0</th>\n",
       "      <td>0</td>\n",
       "      <td>-9.989516</td>\n",
       "      <td>1564.957586</td>\n",
       "      <td>8.199060</td>\n",
       "      <td>32.508797</td>\n",
       "      <td>19.464400</td>\n",
       "      <td>1644.524093</td>\n",
       "      <td>26.100966</td>\n",
       "      <td>34.731954</td>\n",
       "      <td>4378.575414</td>\n",
       "      <td>...</td>\n",
       "      <td>770.535311</td>\n",
       "      <td>30.060441</td>\n",
       "      <td>-25.002361</td>\n",
       "      <td>11.892468</td>\n",
       "      <td>-34.329383</td>\n",
       "      <td>37.218423</td>\n",
       "      <td>-4.440530</td>\n",
       "      <td>29.075092</td>\n",
       "      <td>29.107896</td>\n",
       "      <td>311.232491</td>\n",
       "    </tr>\n",
       "    <tr>\n",
       "      <th>1</th>\n",
       "      <td>1</td>\n",
       "      <td>-17.591800</td>\n",
       "      <td>1559.053039</td>\n",
       "      <td>12.302737</td>\n",
       "      <td>-36.351098</td>\n",
       "      <td>6.256406</td>\n",
       "      <td>1640.834263</td>\n",
       "      <td>12.954212</td>\n",
       "      <td>-43.333128</td>\n",
       "      <td>4833.766813</td>\n",
       "      <td>...</td>\n",
       "      <td>997.260070</td>\n",
       "      <td>-1.329145</td>\n",
       "      <td>16.022086</td>\n",
       "      <td>42.972484</td>\n",
       "      <td>-7.372877</td>\n",
       "      <td>45.550946</td>\n",
       "      <td>37.576551</td>\n",
       "      <td>12.926551</td>\n",
       "      <td>-32.565844</td>\n",
       "      <td>6393.112342</td>\n",
       "    </tr>\n",
       "    <tr>\n",
       "      <th>2</th>\n",
       "      <td>2</td>\n",
       "      <td>-28.321695</td>\n",
       "      <td>1305.900952</td>\n",
       "      <td>-35.681049</td>\n",
       "      <td>-9.039358</td>\n",
       "      <td>-45.519426</td>\n",
       "      <td>2039.003363</td>\n",
       "      <td>-0.154348</td>\n",
       "      <td>18.107957</td>\n",
       "      <td>4162.395297</td>\n",
       "      <td>...</td>\n",
       "      <td>616.059291</td>\n",
       "      <td>-6.997085</td>\n",
       "      <td>27.846844</td>\n",
       "      <td>26.511376</td>\n",
       "      <td>19.323152</td>\n",
       "      <td>-35.807513</td>\n",
       "      <td>-5.913019</td>\n",
       "      <td>15.046779</td>\n",
       "      <td>-34.332357</td>\n",
       "      <td>2601.046223</td>\n",
       "    </tr>\n",
       "    <tr>\n",
       "      <th>3</th>\n",
       "      <td>3</td>\n",
       "      <td>-40.471241</td>\n",
       "      <td>1612.746996</td>\n",
       "      <td>-28.980454</td>\n",
       "      <td>2.137719</td>\n",
       "      <td>-34.767491</td>\n",
       "      <td>2757.469393</td>\n",
       "      <td>23.857472</td>\n",
       "      <td>-48.434183</td>\n",
       "      <td>4340.953927</td>\n",
       "      <td>...</td>\n",
       "      <td>715.537625</td>\n",
       "      <td>-12.441561</td>\n",
       "      <td>47.883435</td>\n",
       "      <td>36.994884</td>\n",
       "      <td>30.783992</td>\n",
       "      <td>22.162383</td>\n",
       "      <td>16.465836</td>\n",
       "      <td>41.435425</td>\n",
       "      <td>33.561233</td>\n",
       "      <td>13572.118106</td>\n",
       "    </tr>\n",
       "    <tr>\n",
       "      <th>4</th>\n",
       "      <td>4</td>\n",
       "      <td>-36.525271</td>\n",
       "      <td>1852.275617</td>\n",
       "      <td>-32.744347</td>\n",
       "      <td>-1.439526</td>\n",
       "      <td>-14.061837</td>\n",
       "      <td>2138.422485</td>\n",
       "      <td>44.061988</td>\n",
       "      <td>33.336936</td>\n",
       "      <td>4099.453685</td>\n",
       "      <td>...</td>\n",
       "      <td>629.221442</td>\n",
       "      <td>10.992360</td>\n",
       "      <td>-47.143335</td>\n",
       "      <td>-8.296962</td>\n",
       "      <td>-8.086565</td>\n",
       "      <td>39.169726</td>\n",
       "      <td>-49.540056</td>\n",
       "      <td>-32.518653</td>\n",
       "      <td>-36.320202</td>\n",
       "      <td>-5462.446898</td>\n",
       "    </tr>\n",
       "  </tbody>\n",
       "</table>\n",
       "<p>5 rows × 22 columns</p>\n",
       "</div>"
      ],
      "text/plain": [
       "   Unnamed: 0          A            B          C          D          E  \\\n",
       "0           0  -9.989516  1564.957586   8.199060  32.508797  19.464400   \n",
       "1           1 -17.591800  1559.053039  12.302737 -36.351098   6.256406   \n",
       "2           2 -28.321695  1305.900952 -35.681049  -9.039358 -45.519426   \n",
       "3           3 -40.471241  1612.746996 -28.980454   2.137719 -34.767491   \n",
       "4           4 -36.525271  1852.275617 -32.744347  -1.439526 -14.061837   \n",
       "\n",
       "             F          G          H            I  ...           L          M  \\\n",
       "0  1644.524093  26.100966  34.731954  4378.575414  ...  770.535311  30.060441   \n",
       "1  1640.834263  12.954212 -43.333128  4833.766813  ...  997.260070  -1.329145   \n",
       "2  2039.003363  -0.154348  18.107957  4162.395297  ...  616.059291  -6.997085   \n",
       "3  2757.469393  23.857472 -48.434183  4340.953927  ...  715.537625 -12.441561   \n",
       "4  2138.422485  44.061988  33.336936  4099.453685  ...  629.221442  10.992360   \n",
       "\n",
       "           N          O          P          Q          R          S  \\\n",
       "0 -25.002361  11.892468 -34.329383  37.218423  -4.440530  29.075092   \n",
       "1  16.022086  42.972484  -7.372877  45.550946  37.576551  12.926551   \n",
       "2  27.846844  26.511376  19.323152 -35.807513  -5.913019  15.046779   \n",
       "3  47.883435  36.994884  30.783992  22.162383  16.465836  41.435425   \n",
       "4 -47.143335  -8.296962  -8.086565  39.169726 -49.540056 -32.518653   \n",
       "\n",
       "           T         label  \n",
       "0  29.107896    311.232491  \n",
       "1 -32.565844   6393.112342  \n",
       "2 -34.332357   2601.046223  \n",
       "3  33.561233  13572.118106  \n",
       "4 -36.320202  -5462.446898  \n",
       "\n",
       "[5 rows x 22 columns]"
      ]
     },
     "execution_count": 6,
     "metadata": {},
     "output_type": "execute_result"
    }
   ],
   "source": [
    "df.head()"
   ]
  },
  {
   "cell_type": "code",
   "execution_count": 7,
   "id": "c39326c5",
   "metadata": {},
   "outputs": [
    {
     "data": {
      "text/plain": [
       "array([[  -28.15486444,  -163.52272341],\n",
       "       [  -24.20654468,  6484.66451042],\n",
       "       [   36.68861119,  2393.81808186],\n",
       "       ...,\n",
       "       [  -17.63046832,  6133.71673445],\n",
       "       [   47.03483429, -1404.204034  ],\n",
       "       [  -18.47504023,  1972.37171111]])"
      ]
     },
     "execution_count": 7,
     "metadata": {},
     "output_type": "execute_result"
    }
   ],
   "source": [
    "df=pd.read_csv(\"Linear_test_1.csv\")\n",
    "x_test=np.array(df.iloc[0:9999,1:21].values)\n",
    "x_test\n",
    "Y_test=np.array(df.iloc[0:9999,20:22].values)\n",
    "Y_test"
   ]
  },
  {
   "cell_type": "code",
   "execution_count": 8,
   "id": "e6ee33c9",
   "metadata": {},
   "outputs": [
    {
     "data": {
      "text/plain": [
       "array([[ 4.07907398e+01,  4.79687491e+01,  9.76256429e+00, ...,\n",
       "         2.18414103e+01, -3.47342781e+01, -3.07523542e+01],\n",
       "       [ 1.18789758e+03,  1.49858868e+03,  1.31635441e+03, ...,\n",
       "         1.06735089e+03,  1.63067342e+03,  1.61011769e+03],\n",
       "       [-2.89419906e+01,  2.49228209e+01,  1.17077065e+00, ...,\n",
       "        -9.59859167e+00,  2.73593985e+01, -3.76523260e+01],\n",
       "       ...,\n",
       "       [-1.98305638e+01,  2.77608448e+01, -4.58378340e+01, ...,\n",
       "        -3.17045751e+00, -7.08984477e+00,  3.73296268e+01],\n",
       "       [-5.52942994e+00,  2.14844087e+01, -4.95921758e+01, ...,\n",
       "         3.98868116e+01, -2.53667118e+01, -2.79687196e+01],\n",
       "       [-2.81548644e+01, -2.42065447e+01,  3.66886112e+01, ...,\n",
       "        -1.76304683e+01,  4.70348343e+01, -1.84750402e+01]])"
      ]
     },
     "execution_count": 8,
     "metadata": {},
     "output_type": "execute_result"
    }
   ],
   "source": [
    "X_test=x_test.T\n",
    "X_test"
   ]
  },
  {
   "cell_type": "code",
   "execution_count": 9,
   "id": "33c821d8",
   "metadata": {},
   "outputs": [
    {
     "data": {
      "text/plain": [
       "array([ -163.52272341,  6484.66451042,  2393.81808186, ...,\n",
       "        6133.71673445, -1404.204034  ,  1972.37171111])"
      ]
     },
     "execution_count": 9,
     "metadata": {},
     "output_type": "execute_result"
    }
   ],
   "source": [
    "y_test=Y_test.T[1,0:9999]\n",
    "y_test"
   ]
  },
  {
   "cell_type": "code",
   "execution_count": 10,
   "id": "065d99ec",
   "metadata": {},
   "outputs": [
    {
     "data": {
      "text/plain": [
       "(1, 49999)"
      ]
     },
     "execution_count": 10,
     "metadata": {},
     "output_type": "execute_result"
    }
   ],
   "source": [
    "y.shape"
   ]
  },
  {
   "cell_type": "code",
   "execution_count": 11,
   "id": "c0e5d95e",
   "metadata": {},
   "outputs": [],
   "source": [
    "X_mean=np.mean(X,axis=1)\n"
   ]
  },
  {
   "cell_type": "code",
   "execution_count": 12,
   "id": "00cd7ac6",
   "metadata": {},
   "outputs": [],
   "source": [
    "X_mean=X_mean.reshape((20,1))"
   ]
  },
  {
   "cell_type": "code",
   "execution_count": 13,
   "id": "c49d6304",
   "metadata": {},
   "outputs": [
    {
     "data": {
      "text/plain": [
       "array([ -52.48898243, 1000.02691476,  -49.99699488,  -50.24193205,\n",
       "        -49.99783526, 1000.04175786,  -49.99833779,  -52.33552537,\n",
       "       4000.05097621,  -52.33376376,  -50.2214292 ,  500.00603767,\n",
       "        -49.99978587,  -49.99991748,  -52.51628303,  -49.99938172,\n",
       "        -49.99386581,  -49.999573  ,  -52.22040698,  -50.20062184])"
      ]
     },
     "execution_count": 13,
     "metadata": {},
     "output_type": "execute_result"
    }
   ],
   "source": [
    "X_min=np.min(X,axis=1)\n",
    "X_min"
   ]
  },
  {
   "cell_type": "code",
   "execution_count": 14,
   "id": "f2d31c60",
   "metadata": {},
   "outputs": [],
   "source": [
    "X_max=np.max(X,axis=1)\n",
    "X_max=X_max.reshape((20,1))\n",
    "\n",
    "X_min=np.min(X,axis=1)\n",
    "X_min=X_min.reshape((20,1))\n",
    "\n",
    "rangee=X_max-X_min"
   ]
  },
  {
   "cell_type": "code",
   "execution_count": 15,
   "id": "808f5003",
   "metadata": {},
   "outputs": [],
   "source": [
    "X_scaled=(X-X_mean)/rangee\n",
    "X=X_scaled"
   ]
  },
  {
   "cell_type": "code",
   "execution_count": 16,
   "id": "c56c15ae",
   "metadata": {},
   "outputs": [],
   "source": [
    "def scaleVector(y):\n",
    "    m = y.size\n",
    "    y_scaled=((y-np.mean(y))/np.std(y)).reshape((1,m))\n",
    "    return y_scaled"
   ]
  },
  {
   "cell_type": "code",
   "execution_count": 17,
   "id": "e89b0fb5",
   "metadata": {},
   "outputs": [],
   "source": [
    "def descaleVector(y_original, y):\n",
    "    m = y.size\n",
    "    y_descaled = ( (y*np.std(y_original)+np.mean(y_original)).reshape((1,m)) )\n",
    "    return y_descaled"
   ]
  },
  {
   "cell_type": "code",
   "execution_count": 18,
   "id": "4c6375cf",
   "metadata": {},
   "outputs": [],
   "source": [
    "def scaleMatrix(X):\n",
    "    n, m = X.shape\n",
    "    mean = np.mean(X,axis = 1).reshape(n, 1)\n",
    "    std = np.std(X, axis = 1).reshape(n, 1)\n",
    "    X_scaled=( (X-mean)/std ).reshape((n,m))\n",
    "    return X_scaled"
   ]
  },
  {
   "cell_type": "code",
   "execution_count": 19,
   "id": "1bb8ad71",
   "metadata": {},
   "outputs": [],
   "source": [
    "def descaleMatrix(X_original, X):\n",
    "    n, m = X.shape\n",
    "    mean = np.mean(X_original, axis = 1).reshape(n, 1)\n",
    "    std = np.std(X_original, axis = 1).reshape(n, 1)\n",
    "    X_descaled=( (X * std) + mean ).reshape((n,m))\n",
    "    return X_descaled"
   ]
  },
  {
   "cell_type": "code",
   "execution_count": 20,
   "id": "c22b6602",
   "metadata": {},
   "outputs": [],
   "source": [
    "#step 1\n",
    "def initialise_parameter(lenw):\n",
    "    w=np.zeros((1,lenw))\n",
    "    b=0\n",
    "    return w, b"
   ]
  },
  {
   "cell_type": "code",
   "execution_count": 21,
   "id": "7cba5443",
   "metadata": {},
   "outputs": [],
   "source": [
    "#step 2\n",
    "def forward_prop(X,w,b):\n",
    "#     print(X.shape, w.shape)\n",
    "    z=np.dot(w,X)+b      # w@X\n",
    "    return z"
   ]
  },
  {
   "cell_type": "code",
   "execution_count": 22,
   "id": "cdab1f4c",
   "metadata": {},
   "outputs": [],
   "source": [
    "#step 3\n",
    "def cost_function(z,y):\n",
    "    m=y.size\n",
    "    J=(1/(2*m))*np.sum(np.square(z-y))\n",
    "    return J"
   ]
  },
  {
   "cell_type": "code",
   "execution_count": 23,
   "id": "c968e7d4",
   "metadata": {},
   "outputs": [],
   "source": [
    "#step 4\n",
    "def back_prop(X,y,z):\n",
    "    m=y.shape[1]\n",
    "    dz=(1/m)*(z-y)\n",
    "    dw=np.dot(dz,X.T)\n",
    "    db=np.sum(dz)\n",
    "    return dw,db"
   ]
  },
  {
   "cell_type": "code",
   "execution_count": 24,
   "id": "33fb663d",
   "metadata": {},
   "outputs": [],
   "source": [
    "#step 5\n",
    "def grad_descent_update(w,b,dw,db,learning_rate):\n",
    "    w=w-dw*learning_rate\n",
    "    b=b-db*learning_rate\n",
    "    return w,b"
   ]
  },
  {
   "cell_type": "code",
   "execution_count": null,
   "id": "6eef1f10",
   "metadata": {},
   "outputs": [],
   "source": []
  },
  {
   "cell_type": "code",
   "execution_count": null,
   "id": "c2cffb19",
   "metadata": {},
   "outputs": [],
   "source": []
  },
  {
   "cell_type": "code",
   "execution_count": 25,
   "id": "df0b7356",
   "metadata": {},
   "outputs": [],
   "source": [
    "#step 6\n",
    "def linear_regression_problem(X_train, y_train, learning_rate, epochs): #removed ,lenw\n",
    "    \n",
    "        lenw=X_train.shape[0]\n",
    "        w,b= initialise_parameter(lenw)\n",
    "        m_train=y_train.shape[1]\n",
    "        x_scaled=scaleMatrix(X_train)\n",
    "        y_scaled = scaleMatrix(y_train)\n",
    "        costs_trains=[]\n",
    "        for i in range(1,epochs+1):\n",
    "            z_train= forward_prop(X_scaled,w,b)\n",
    "            cost_train=cost_function(z_train,y_scaled)\n",
    "            dw,db=back_prop(X_scaled,y_scaled,z_train)\n",
    "            w,b= grad_descent_update(w,b,dw,db,learning_rate)\n",
    "        \n",
    "            if i%10==0:\n",
    "                costs_trains.append(cost_train)\n",
    "                \n",
    "         #MAE_train\n",
    "#             MAE_train=(1/m_train)*(np.sum(np.abs(z_train-y_train)))   #changed this check again\n",
    "#             print('epochs'+str(i)+'/'+str(epochs)+':')\n",
    "#             print('training cost '+str(cost_train))\n",
    "#         plt.plot(costs_train)\n",
    "#         plt.xlabel('iterations(per tens)')\n",
    "#         plt.ylabel('training cost')\n",
    "#         plt.title('learning rate')\n",
    "#         plt.show()\n",
    "        plt.plot(costs_trains)\n",
    "        print(costs_trains[-10:])\n",
    "        return w,b\n",
    "    \n"
   ]
  },
  {
   "cell_type": "code",
   "execution_count": 45,
   "id": "35d13775",
   "metadata": {},
   "outputs": [],
   "source": [
    "def RMSE_error_test(h,y):\n",
    "    print(h)\n",
    "    print(y)\n",
    "    a=np.sqrt((((h-y)**2).sum())/10000)\n",
    "    return a\n",
    "    \n",
    "    "
   ]
  },
  {
   "cell_type": "code",
   "execution_count": 43,
   "id": "74d45209",
   "metadata": {},
   "outputs": [],
   "source": [
    "def RMSE_error_train(h,y):\n",
    "    print(h)\n",
    "    print(y)\n",
    "    a=np.sqrt((((h-y)**2).sum())/50000)\n",
    "    return a"
   ]
  },
  {
   "cell_type": "code",
   "execution_count": 28,
   "id": "c4809806",
   "metadata": {},
   "outputs": [
    {
     "name": "stdout",
     "output_type": "stream",
     "text": [
      "[7.833688565590205e-05, 7.829603841375826e-05, 7.826109344992716e-05, 7.823119652962358e-05, 7.820561725840938e-05, 7.818373109763148e-05, 7.816500399632083e-05, 7.814897925819905e-05, 7.81352663181275e-05, 7.812353114987355e-05]\n"
     ]
    },
    {
     "data": {
      "text/plain": [
       "(1, 20)"
      ]
     },
     "execution_count": 28,
     "metadata": {},
     "output_type": "execute_result"
    },
    {
     "data": {
      "image/png": "[encoded data removed]",
      "text/plain": [
       "<Figure size 432x288 with 1 Axes>"
      ]
     },
     "metadata": {
      "needs_background": "light"
     },
     "output_type": "display_data"
    }
   ],
   "source": [
    "w, b = linear_regression_problem(X,y,0.1,1000)\n",
    "w.shape"
   ]
  },
  {
   "cell_type": "code",
   "execution_count": 32,
   "id": "71d956b5",
   "metadata": {},
   "outputs": [],
   "source": [
    "def linear_regression_answer(X_test, Y_test, Y_train, w,b):\n",
    "    lenw = X_test.shape[0]\n",
    "    m_test = X_test.shape[1]\n",
    "#     print(m_test)\n",
    "\n",
    "    X_scaled=scaleMatrix(X_test)\n",
    "    hypothesis=forward_prop(X_scaled,w,b)\n",
    "    hypothesis_descaled=descaleMatrix(Y_train, hypothesis)\n",
    "#     print(hypothesis.shape)\n",
    "#     print(Y_test.shape)\n",
    "    cost_test=cost_function(hypothesis_descaled,Y_test)\n",
    "    return cost_test,hypothesis_descaled\n",
    "    "
   ]
  },
  {
   "cell_type": "code",
   "execution_count": 34,
   "id": "700363a3",
   "metadata": {},
   "outputs": [],
   "source": [
    "cost_test,hypothesis_descaled=linear_regression_answer(X_test, y_test, y, w, b)"
   ]
  },
  {
   "cell_type": "code",
   "execution_count": 46,
   "id": "cdf78f6c",
   "metadata": {},
   "outputs": [
    {
     "name": "stdout",
     "output_type": "stream",
     "text": [
      "[[-4713.83293725 18923.68427056  3337.25740617 ... 18007.97768157\n",
      "  -9739.12943531  1939.30301863]]\n",
      "[ -163.52272341  6484.66451042  2393.81808186 ...  6133.71673445\n",
      " -1404.204034    1972.37171111]\n"
     ]
    },
    {
     "data": {
      "text/plain": [
       "12512.069228501514"
      ]
     },
     "execution_count": 46,
     "metadata": {},
     "output_type": "execute_result"
    }
   ],
   "source": [
    "RMSE_error_test(hypothesis_descaled,y_test)"
   ]
  },
  {
   "cell_type": "code",
   "execution_count": null,
   "id": "deaf47a1",
   "metadata": {},
   "outputs": [],
   "source": []
  }
 ],
 "metadata": {
  "kernelspec": {
   "display_name": "Python 3 (ipykernel)",
   "language": "python",
   "name": "python3"
  },
  "language_info": {
   "codemirror_mode": {
    "name": "ipython",
    "version": 3
   },
   "file_extension": ".py",
   "mimetype": "text/x-python",
   "name": "python",
   "nbconvert_exporter": "python",
   "pygments_lexer": "ipython3",
   "version": "3.8.1"
  }
 },
 "nbformat": 4,
 "nbformat_minor": 5
}
