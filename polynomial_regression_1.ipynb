{
 "cells": [
  {
   "cell_type": "code",
   "execution_count": 8,
   "id": "86f505aa",
   "metadata": {},
   "outputs": [],
   "source": [
    "import numpy as np\n",
    "import pandas as pd\n",
    "import matplotlib.pyplot as plt"
   ]
  },
  {
   "cell_type": "code",
   "execution_count": 9,
   "id": "0d698f38",
   "metadata": {},
   "outputs": [
    {
     "data": {
      "text/html": [
       "<div>\n",
       "<style scoped>\n",
       "    .dataframe tbody tr th:only-of-type {\n",
       "        vertical-align: middle;\n",
       "    }\n",
       "\n",
       "    .dataframe tbody tr th {\n",
       "        vertical-align: top;\n",
       "    }\n",
       "\n",
       "    .dataframe thead th {\n",
       "        text-align: right;\n",
       "    }\n",
       "</style>\n",
       "<table border=\"1\" class=\"dataframe\">\n",
       "  <thead>\n",
       "    <tr style=\"text-align: right;\">\n",
       "      <th></th>\n",
       "      <th>Unnamed: 0</th>\n",
       "      <th>X</th>\n",
       "      <th>Y</th>\n",
       "      <th>Z</th>\n",
       "      <th>label</th>\n",
       "    </tr>\n",
       "  </thead>\n",
       "  <tbody>\n",
       "    <tr>\n",
       "      <th>0</th>\n",
       "      <td>0</td>\n",
       "      <td>0.643715</td>\n",
       "      <td>-9.866550</td>\n",
       "      <td>-5.836019</td>\n",
       "      <td>307.972927</td>\n",
       "    </tr>\n",
       "    <tr>\n",
       "      <th>1</th>\n",
       "      <td>1</td>\n",
       "      <td>-1.366446</td>\n",
       "      <td>-3.761945</td>\n",
       "      <td>-8.756162</td>\n",
       "      <td>136.398375</td>\n",
       "    </tr>\n",
       "    <tr>\n",
       "      <th>2</th>\n",
       "      <td>2</td>\n",
       "      <td>-4.090270</td>\n",
       "      <td>-1.836218</td>\n",
       "      <td>-1.846066</td>\n",
       "      <td>-310.724813</td>\n",
       "    </tr>\n",
       "    <tr>\n",
       "      <th>3</th>\n",
       "      <td>3</td>\n",
       "      <td>-8.730478</td>\n",
       "      <td>-1.923651</td>\n",
       "      <td>3.892972</td>\n",
       "      <td>1.755447</td>\n",
       "    </tr>\n",
       "    <tr>\n",
       "      <th>4</th>\n",
       "      <td>4</td>\n",
       "      <td>5.367169</td>\n",
       "      <td>0.358357</td>\n",
       "      <td>6.703989</td>\n",
       "      <td>-343.582590</td>\n",
       "    </tr>\n",
       "  </tbody>\n",
       "</table>\n",
       "</div>"
      ],
      "text/plain": [
       "   Unnamed: 0         X         Y         Z       label\n",
       "0           0  0.643715 -9.866550 -5.836019  307.972927\n",
       "1           1 -1.366446 -3.761945 -8.756162  136.398375\n",
       "2           2 -4.090270 -1.836218 -1.846066 -310.724813\n",
       "3           3 -8.730478 -1.923651  3.892972    1.755447\n",
       "4           4  5.367169  0.358357  6.703989 -343.582590"
      ]
     },
     "execution_count": 9,
     "metadata": {},
     "output_type": "execute_result"
    }
   ],
   "source": [
    "df=pd.read_csv(\"Polynomial_train..csv\")\n",
    "df.head()"
   ]
  },
  {
   "cell_type": "code",
   "execution_count": null,
   "id": "3f3abff3",
   "metadata": {},
   "outputs": [],
   "source": []
  },
  {
   "cell_type": "code",
   "execution_count": 10,
   "id": "03f05475",
   "metadata": {},
   "outputs": [
    {
     "data": {
      "text/plain": [
       "array([[ 0.64371517, -9.86655011, -5.8360194 ],\n",
       "       [-1.36644585, -3.76194541, -8.75616193],\n",
       "       [-4.09026967, -1.83621751, -1.84606561],\n",
       "       ...,\n",
       "       [ 6.6167532 , -2.84728822, -0.50404002],\n",
       "       [ 3.55819907,  4.50752592, -4.8236737 ],\n",
       "       [ 0.62343079,  8.86323404, -3.2310397 ]])"
      ]
     },
     "execution_count": 10,
     "metadata": {},
     "output_type": "execute_result"
    }
   ],
   "source": [
    "x=np.array(df.iloc[0:50000,1:4])\n",
    "x"
   ]
  },
  {
   "cell_type": "code",
   "execution_count": 11,
   "id": "2554f295",
   "metadata": {},
   "outputs": [
    {
     "data": {
      "text/plain": [
       "(50000, 3)"
      ]
     },
     "execution_count": 11,
     "metadata": {},
     "output_type": "execute_result"
    }
   ],
   "source": [
    "x.shape"
   ]
  },
  {
   "cell_type": "code",
   "execution_count": 12,
   "id": "aac3eeb9",
   "metadata": {},
   "outputs": [],
   "source": [
    "def X_transform2(x):\n",
    "    P=[]\n",
    "    m,n=x.shape\n",
    "    for i in range (n):\n",
    "        P.append(x[:,i])\n",
    "    L=[]\n",
    "    for i in range (n):\n",
    "            for j in range (i,n):\n",
    "                L.append(P[i]*P[j])\n",
    "    x=np.concatenate((x,np.array(L).T),axis=1)\n",
    "    \n",
    "    return x\n",
    "            "
   ]
  },
  {
   "cell_type": "code",
   "execution_count": 13,
   "id": "08488eb1",
   "metadata": {},
   "outputs": [],
   "source": [
    "X=X_transform2(x)"
   ]
  },
  {
   "cell_type": "code",
   "execution_count": 14,
   "id": "dbda0189",
   "metadata": {},
   "outputs": [
    {
     "data": {
      "text/plain": [
       "(50000, 9)"
      ]
     },
     "execution_count": 14,
     "metadata": {},
     "output_type": "execute_result"
    }
   ],
   "source": [
    "X.shape"
   ]
  },
  {
   "cell_type": "code",
   "execution_count": 15,
   "id": "347e04eb",
   "metadata": {},
   "outputs": [
    {
     "data": {
      "text/plain": [
       "array([ 307.9729269 ,  136.39837542, -310.72481348, ...,  663.87365546,\n",
       "       -421.00400451, -699.71868166])"
      ]
     },
     "execution_count": 15,
     "metadata": {},
     "output_type": "execute_result"
    }
   ],
   "source": [
    "y=np.array(df.iloc[0:50000,-1])\n",
    "y"
   ]
  },
  {
   "cell_type": "code",
   "execution_count": 16,
   "id": "7a819530",
   "metadata": {},
   "outputs": [],
   "source": [
    "y= y.reshape(50000,1)"
   ]
  },
  {
   "cell_type": "code",
   "execution_count": 17,
   "id": "f71224c9",
   "metadata": {},
   "outputs": [
    {
     "data": {
      "text/html": [
       "<div>\n",
       "<style scoped>\n",
       "    .dataframe tbody tr th:only-of-type {\n",
       "        vertical-align: middle;\n",
       "    }\n",
       "\n",
       "    .dataframe tbody tr th {\n",
       "        vertical-align: top;\n",
       "    }\n",
       "\n",
       "    .dataframe thead th {\n",
       "        text-align: right;\n",
       "    }\n",
       "</style>\n",
       "<table border=\"1\" class=\"dataframe\">\n",
       "  <thead>\n",
       "    <tr style=\"text-align: right;\">\n",
       "      <th></th>\n",
       "      <th>Unnamed: 0</th>\n",
       "      <th>X</th>\n",
       "      <th>Y</th>\n",
       "      <th>Z</th>\n",
       "      <th>label</th>\n",
       "    </tr>\n",
       "  </thead>\n",
       "  <tbody>\n",
       "    <tr>\n",
       "      <th>0</th>\n",
       "      <td>0</td>\n",
       "      <td>9.322078</td>\n",
       "      <td>0.413096</td>\n",
       "      <td>5.984731</td>\n",
       "      <td>-657.669309</td>\n",
       "    </tr>\n",
       "    <tr>\n",
       "      <th>1</th>\n",
       "      <td>1</td>\n",
       "      <td>2.811964</td>\n",
       "      <td>6.142752</td>\n",
       "      <td>6.419237</td>\n",
       "      <td>-545.362524</td>\n",
       "    </tr>\n",
       "    <tr>\n",
       "      <th>2</th>\n",
       "      <td>2</td>\n",
       "      <td>-2.669784</td>\n",
       "      <td>7.775091</td>\n",
       "      <td>-6.931907</td>\n",
       "      <td>-75.044187</td>\n",
       "    </tr>\n",
       "    <tr>\n",
       "      <th>3</th>\n",
       "      <td>3</td>\n",
       "      <td>-6.992156</td>\n",
       "      <td>-9.205548</td>\n",
       "      <td>0.852580</td>\n",
       "      <td>-2403.124902</td>\n",
       "    </tr>\n",
       "    <tr>\n",
       "      <th>4</th>\n",
       "      <td>4</td>\n",
       "      <td>1.574294</td>\n",
       "      <td>-2.213266</td>\n",
       "      <td>6.029188</td>\n",
       "      <td>8.595325</td>\n",
       "    </tr>\n",
       "  </tbody>\n",
       "</table>\n",
       "</div>"
      ],
      "text/plain": [
       "   Unnamed: 0         X         Y         Z        label\n",
       "0           0  9.322078  0.413096  5.984731  -657.669309\n",
       "1           1  2.811964  6.142752  6.419237  -545.362524\n",
       "2           2 -2.669784  7.775091 -6.931907   -75.044187\n",
       "3           3 -6.992156 -9.205548  0.852580 -2403.124902\n",
       "4           4  1.574294 -2.213266  6.029188     8.595325"
      ]
     },
     "execution_count": 17,
     "metadata": {},
     "output_type": "execute_result"
    }
   ],
   "source": [
    "sf=pd.read_csv(\"Polynomial_test.csv\")\n",
    "sf.head()"
   ]
  },
  {
   "cell_type": "code",
   "execution_count": 18,
   "id": "7b501726",
   "metadata": {},
   "outputs": [
    {
     "data": {
      "text/plain": [
       "array([[ 9.32207776,  0.41309646,  5.98473071],\n",
       "       [ 2.81196379,  6.14275187,  6.41923694],\n",
       "       [-2.66978441,  7.77509088, -6.93190696],\n",
       "       ...,\n",
       "       [ 6.64099656,  6.86487708,  4.51168542],\n",
       "       [-6.26241442,  1.3232032 , -3.91774828],\n",
       "       [ 8.28979179, -0.37154051,  2.09903937]])"
      ]
     },
     "execution_count": 18,
     "metadata": {},
     "output_type": "execute_result"
    }
   ],
   "source": [
    "x_test=np.array(sf.iloc[0:10000,1:4])\n",
    "x_test"
   ]
  },
  {
   "cell_type": "code",
   "execution_count": 19,
   "id": "4c92dab4",
   "metadata": {},
   "outputs": [],
   "source": [
    "X_test=X_transform2(x_test)"
   ]
  },
  {
   "cell_type": "code",
   "execution_count": 20,
   "id": "e0580802",
   "metadata": {},
   "outputs": [
    {
     "data": {
      "text/plain": [
       "array([ -657.66930949,  -545.36252395,   -75.04418664, ...,\n",
       "       -1771.64069421,   -22.74692118,   -64.85344575])"
      ]
     },
     "execution_count": 20,
     "metadata": {},
     "output_type": "execute_result"
    }
   ],
   "source": [
    "Y=np.array(sf.iloc[0:10000,-1])\n",
    "Y"
   ]
  },
  {
   "cell_type": "code",
   "execution_count": 21,
   "id": "14b03fa9",
   "metadata": {},
   "outputs": [
    {
     "data": {
      "text/plain": [
       "array([[ -657.66930949],\n",
       "       [ -545.36252395],\n",
       "       [  -75.04418664],\n",
       "       ...,\n",
       "       [-1771.64069421],\n",
       "       [  -22.74692118],\n",
       "       [  -64.85344575]])"
      ]
     },
     "execution_count": 21,
     "metadata": {},
     "output_type": "execute_result"
    }
   ],
   "source": [
    "Y=Y.reshape(10000,1)\n",
    "Y"
   ]
  },
  {
   "cell_type": "code",
   "execution_count": 22,
   "id": "0ce38655",
   "metadata": {},
   "outputs": [],
   "source": [
    "def scaleMatrix(X):\n",
    "    m=X.shape[0]\n",
    "    mean=np.mean(X,axis=0)\n",
    "    std=np.std(X,axis=0)\n",
    "    X_scaled=(X-mean)/(std)\n",
    "    return X_scaled\n",
    "          "
   ]
  },
  {
   "cell_type": "code",
   "execution_count": 23,
   "id": "085efaf3",
   "metadata": {},
   "outputs": [],
   "source": [
    "def descaleMatrix(y_original,y):\n",
    "    m=y.size\n",
    "    y_descaled=(y*(np.std(y_original,axis=0))+np.mean(y_original,axis=0)).reshape((1,m))\n",
    "    return y_descaled"
   ]
  },
  {
   "cell_type": "code",
   "execution_count": 24,
   "id": "53852215",
   "metadata": {},
   "outputs": [],
   "source": [
    "#X_train=scaleMatrix(X)"
   ]
  },
  {
   "cell_type": "code",
   "execution_count": 25,
   "id": "60fe7224",
   "metadata": {},
   "outputs": [],
   "source": [
    "#Y_train=scaleMatrix(Y)"
   ]
  },
  {
   "cell_type": "code",
   "execution_count": 26,
   "id": "c72cefe4",
   "metadata": {},
   "outputs": [],
   "source": [
    "#X_test=scaleMatrix(X_test)"
   ]
  },
  {
   "cell_type": "code",
   "execution_count": 27,
   "id": "dda8bd05",
   "metadata": {},
   "outputs": [],
   "source": [
    "#X_scale=scaleMatrix(X)\n",
    "#X_train=np.concatenate((d,X),axis=1)"
   ]
  },
  {
   "cell_type": "code",
   "execution_count": 28,
   "id": "2dfa8a5b",
   "metadata": {},
   "outputs": [
    {
     "data": {
      "text/plain": [
       "array([[1.],\n",
       "       [1.],\n",
       "       [1.],\n",
       "       ...,\n",
       "       [1.],\n",
       "       [1.],\n",
       "       [1.]])"
      ]
     },
     "execution_count": 28,
     "metadata": {},
     "output_type": "execute_result"
    }
   ],
   "source": [
    "l=X.shape[0]\n",
    "c=np.ones(l,)\n",
    "d=c.reshape(l,1)\n",
    "d"
   ]
  },
  {
   "cell_type": "code",
   "execution_count": 29,
   "id": "33888c98",
   "metadata": {},
   "outputs": [],
   "source": [
    "X_scale=scaleMatrix(X)\n",
    "X_train=np.concatenate((d,X),axis=1)"
   ]
  },
  {
   "cell_type": "code",
   "execution_count": 30,
   "id": "03f4de68",
   "metadata": {},
   "outputs": [],
   "source": [
    "#X_train=np.concatenate((d,X),axis=1)\n",
    "#X_train"
   ]
  },
  {
   "cell_type": "code",
   "execution_count": 31,
   "id": "1ac85f8b",
   "metadata": {},
   "outputs": [
    {
     "data": {
      "text/plain": [
       "array([[1.],\n",
       "       [1.],\n",
       "       [1.],\n",
       "       ...,\n",
       "       [1.],\n",
       "       [1.],\n",
       "       [1.]])"
      ]
     },
     "execution_count": 31,
     "metadata": {},
     "output_type": "execute_result"
    }
   ],
   "source": [
    "r=X_test.shape[0]\n",
    "e=np.ones(r,)\n",
    "f=e.reshape(r,1)\n",
    "f"
   ]
  },
  {
   "cell_type": "code",
   "execution_count": 32,
   "id": "26db3aa4",
   "metadata": {},
   "outputs": [
    {
     "data": {
      "text/plain": [
       "array([[  1.        ,   9.32207776,   0.41309646, ...,   0.17064868,\n",
       "          2.47227105,  35.81700166],\n",
       "       [  1.        ,   2.81196379,   6.14275187, ...,  37.73340055,\n",
       "         39.4317797 ,  41.20660283],\n",
       "       [  1.        ,  -2.66978441,   7.77509088, ...,  60.45203823,\n",
       "        -53.89620658,  48.05133407],\n",
       "       ...,\n",
       "       [  1.        ,   6.64099656,   6.86487708, ...,  47.12653734,\n",
       "         30.97216585,  20.35530534],\n",
       "       [  1.        ,  -6.26241442,   1.3232032 , ...,   1.75086671,\n",
       "         -5.18397707,  15.3487516 ],\n",
       "       [  1.        ,   8.28979179,  -0.37154051, ...,   0.13804235,\n",
       "         -0.77987816,   4.40596629]])"
      ]
     },
     "execution_count": 32,
     "metadata": {},
     "output_type": "execute_result"
    }
   ],
   "source": [
    "X_test=np.concatenate((f,X_test),axis=1)\n",
    "X_test"
   ]
  },
  {
   "cell_type": "code",
   "execution_count": 33,
   "id": "e3af1e12",
   "metadata": {},
   "outputs": [
    {
     "data": {
      "text/plain": [
       "150000"
      ]
     },
     "execution_count": 33,
     "metadata": {},
     "output_type": "execute_result"
    }
   ],
   "source": [
    "u=x.size\n",
    "u"
   ]
  },
  {
   "cell_type": "code",
   "execution_count": 34,
   "id": "3f915f2b",
   "metadata": {},
   "outputs": [
    {
     "name": "stdout",
     "output_type": "stream",
     "text": [
      "(50000, 10)\n",
      "(10000, 10)\n"
     ]
    }
   ],
   "source": [
    "print(X_train.shape)\n",
    "print(X_test.shape)"
   ]
  },
  {
   "cell_type": "code",
   "execution_count": 35,
   "id": "95f16b1a",
   "metadata": {},
   "outputs": [],
   "source": [
    "#step 1\n",
    "def initialise_parameter(lenw):\n",
    "    w=np.zeros((lenw,1))\n",
    "    return w"
   ]
  },
  {
   "cell_type": "code",
   "execution_count": 36,
   "id": "fbcf56a1",
   "metadata": {},
   "outputs": [],
   "source": [
    "def forward_prop(X,w):\n",
    "    z=np.dot(X,w)#shape of X:nX(m+1) shape of w:(m+1)X1 shape of z:nX1 shape of\n",
    "    return z"
   ]
  },
  {
   "cell_type": "code",
   "execution_count": 37,
   "id": "279a36f6",
   "metadata": {},
   "outputs": [],
   "source": [
    "def cost_function(z,y):\n",
    "    m=y.size\n",
    "    J=(1/2*m)*np.sum(np.square(z-y))+10*np.sum(w**2)\n",
    "    return J"
   ]
  },
  {
   "cell_type": "code",
   "execution_count": 38,
   "id": "d3974b6a",
   "metadata": {},
   "outputs": [],
   "source": [
    "def back_prop(X,y,z):\n",
    "    m=y.size\n",
    "    dz=(1/m)*(z-y)\n",
    "    dw=np.dot(X.T,dz)\n",
    "    return dz,dw"
   ]
  },
  {
   "cell_type": "code",
   "execution_count": 39,
   "id": "62b50d87",
   "metadata": {},
   "outputs": [],
   "source": [
    "def grad_descent_update(w,dw,learning_rate):\n",
    "    w=w-dw*learning_rate\n",
    "    return w"
   ]
  },
  {
   "cell_type": "code",
   "execution_count": 40,
   "id": "c6be6fa4",
   "metadata": {},
   "outputs": [],
   "source": [
    "def polynomial_regression_problem(X_train,Y_train,learning_rate,epochs, w):\n",
    "    lenw=X_train.shape[1]\n",
    "#     w=initialise_parameter(lenw)\n",
    "    m_train=Y_train.shape[0]#1\n",
    "#    X_scaled=scaleMatrix(X_train)\n",
    "#     y_scaled=scaleMatrix(Y_train)\n",
    "    y_scaled = Y_train\n",
    "    X_scaled = X_train\n",
    "    costs_train=[]\n",
    "    for i in range(1,epochs+1):\n",
    "        z_train=forward_prop(X_scaled,w)\n",
    "        cost_train=cost_function(z_train,y_scaled)\n",
    "        dz, dw=back_prop(X_scaled,y_scaled,z_train)\n",
    "        dw.shape\n",
    "        w=grad_descent_update(w,dw,learning_rate)\n",
    "        \n",
    "        if i%10==0:\n",
    "            costs_train.append(cost_train)\n",
    "            \n",
    "    plt.plot(costs_train)\n",
    "    print(costs_train[-10:])\n",
    "    return w"
   ]
  },
  {
   "cell_type": "code",
   "execution_count": 41,
   "id": "59e5c098",
   "metadata": {},
   "outputs": [
    {
     "name": "stdout",
     "output_type": "stream",
     "text": [
      "[1.282123140336031e+59]\n"
     ]
    },
    {
     "data": {
      "image/png": "[encoded data removed]",
      "text/plain": [
       "<Figure size 432x288 with 1 Axes>"
      ]
     },
     "metadata": {
      "needs_background": "light"
     },
     "output_type": "display_data"
    }
   ],
   "source": [
    "w = initialise_parameter(X_train.shape[1])\n",
    "w=polynomial_regression_problem(X_train,y,0.1,10, w)"
   ]
  },
  {
   "cell_type": "code",
   "execution_count": 42,
   "id": "c270e02c",
   "metadata": {},
   "outputs": [],
   "source": [
    "def Polynomial_regression_answer(X_test,Y_test,Y_train,w):\n",
    "    lenw=X_test.shape[1]\n",
    "    m_test=X_test.shape[0]\n",
    "    #X_scaled=scaleMatrix(X_test)\n",
    "    X_scaled=X_test\n",
    "    hypothesis=forward_prop(X_scaled,w)\n",
    "    hypothesis_descaled=descaleMatrix(Y_train,hypothesis)\n",
    "    cost_test=cost_function(hypothesis_descaled,Y_test)\n",
    "    return hypothesis_descaled,cost_test\n",
    "    "
   ]
  },
  {
   "cell_type": "code",
   "execution_count": 43,
   "id": "3c320334",
   "metadata": {},
   "outputs": [],
   "source": [
    "hypothesis_descaled,cost_test=Polynomial_regression_answer(X_test,Y,y,w)"
   ]
  },
  {
   "cell_type": "code",
   "execution_count": 44,
   "id": "0f60b82b",
   "metadata": {},
   "outputs": [],
   "source": [
    "def RMSE_error_test(h,y):\n",
    "    a=np.sqrt((((h-y)**2).sum())/10000)\n",
    "    return a"
   ]
  },
  {
   "cell_type": "code",
   "execution_count": 45,
   "id": "4d1970e6",
   "metadata": {},
   "outputs": [],
   "source": [
    "def RMSE_error_train(h,y):\n",
    "    a=np.sqrt((((h-y)**2).sum())/50000)\n",
    "    return a"
   ]
  },
  {
   "cell_type": "code",
   "execution_count": 46,
   "id": "1a2e9015",
   "metadata": {},
   "outputs": [
    {
     "data": {
      "text/plain": [
       "5.168689757976562e+32"
      ]
     },
     "execution_count": 46,
     "metadata": {},
     "output_type": "execute_result"
    }
   ],
   "source": [
    "RMSE_error_test(hypothesis_descaled,Y)"
   ]
  },
  {
   "cell_type": "code",
   "execution_count": null,
   "id": "ea76078d",
   "metadata": {},
   "outputs": [],
   "source": []
  }
 ],
 "metadata": {
  "kernelspec": {
   "display_name": "Python 3 (ipykernel)",
   "language": "python",
   "name": "python3"
  },
  "language_info": {
   "codemirror_mode": {
    "name": "ipython",
    "version": 3
   },
   "file_extension": ".py",
   "mimetype": "text/x-python",
   "name": "python",
   "nbconvert_exporter": "python",
   "pygments_lexer": "ipython3",
   "version": "3.8.1"
  }
 },
 "nbformat": 4,
 "nbformat_minor": 5
}
