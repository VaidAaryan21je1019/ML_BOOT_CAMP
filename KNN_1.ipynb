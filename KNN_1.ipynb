{
 "cells": [
  {
   "cell_type": "code",
   "execution_count": null,
   "id": "28952765",
   "metadata": {},
   "outputs": [],
   "source": [
    "import numpy as np\n",
    "import pandas as pd\n",
    "import matplotlib.pyplot as plt\n"
   ]
  },
  {
   "cell_type": "code",
   "execution_count": null,
   "id": "68967ebd",
   "metadata": {},
   "outputs": [],
   "source": []
  },
  {
   "cell_type": "code",
   "execution_count": null,
   "id": "267ed2cf",
   "metadata": {},
   "outputs": [],
   "source": [
    "df=pd.read_csv(\"emnist-letters-train.csv\",header=None)\n",
    "df.head()"
   ]
  },
  {
   "cell_type": "code",
   "execution_count": null,
   "id": "5fd8c0d7",
   "metadata": {},
   "outputs": [],
   "source": [
    "sf=pd.read_csv(\"emnist-letters-test.csv\",header=None)"
   ]
  },
  {
   "cell_type": "code",
   "execution_count": null,
   "id": "444e8773",
   "metadata": {},
   "outputs": [],
   "source": [
    "alphabets=['A','B','C','D','E','F','G','H','I','J','K','L','M','N','O','P','Q','R','S','T','U','V','W','X','Y','Z']"
   ]
  },
  {
   "cell_type": "code",
   "execution_count": null,
   "id": "4e9dfe4f",
   "metadata": {},
   "outputs": [],
   "source": [
    "data=[]\n",
    "for i in range(26):\n",
    "    data.append(df.copy())\n",
    "for i in range(1,27):\n",
    "    print(f\"Iteration{i}\")\n",
    "    for j in range(88799):\n",
    "        if data[i-1].iloc[j,0] == i:\n",
    "            data[i-1].iloc[j,0]=1\n",
    "        else:\n",
    "            data[i-1].iloc[j,0]=0\n",
    "train_dict={}\n",
    "for i in range(1,27):\n",
    "    X = data[i-1].iloc[:,1:785] \n",
    "    Y = data[i-1].iloc[:,0]  \n",
    "    Y = np.array(Y)\n",
    "    Y = Y.reshape(Y.shape[0],1)\n",
    "    \n",
    "    train_dictionary['D'+str(i)] = [X,Y]            "
   ]
  },
  {
   "cell_type": "code",
   "execution_count": null,
   "id": "6ae2e70c",
   "metadata": {},
   "outputs": [],
   "source": [
    "alphabets=['A','B','C','D','E','F','G','H','I','J','K','L','M','N','O','P','Q','R','S','T','U','V','W','X','Y','Z']\n",
    "\n",
    "data = []\n",
    "\n",
    "for i in range(26):\n",
    "    data.append(sf.copy())\n",
    "for i in range(1,27):\n",
    "    print(f\"Iteration{i}\")\n",
    "    for j in range(14799):\n",
    "        if data[i-1].iloc[j,0] == i:\n",
    "            data[i-1].iloc[j,0]=1\n",
    "        else:\n",
    "            data[i-1].iloc[j,0]=0   \n",
    "\n",
    "test_dictionary={}\n",
    "for i in range(1,27):\n",
    "    X = data[i-1].iloc[:,1:785]\n",
    "    Y = data[i-1].iloc[:,0]  \n",
    "    Y = np.array(Y)\n",
    "    Y = Y.reshape(Y.shape[0],1)\n",
    "    \n",
    "    test_dictionary['D'+str(i)] = [X,Y]"
   ]
  },
  {
   "cell_type": "code",
   "execution_count": null,
   "id": "7862fc1f",
   "metadata": {},
   "outputs": [],
   "source": [
    "def DISTANCE(X_train,X_test):\n",
    "    distance = {}\n",
    "    X_train = np.array(X_train)\n",
    "    X_test = np.array(X_test )\n",
    "    \n",
    "    for i in range(X_test.shape[0]):\n",
    "        print(\"Iter : \",i+1)\n",
    "        d = (((X_train - X_test[i,:])**2).sum(axis = 1))**(1/2)\n",
    "        d = d.reshape((88799,1))  \n",
    "        index = np.arange(0,88799)\n",
    "        index = index.reshape((88799,1))\n",
    "        d = np.c_[index,d]\n",
    "        distance[\"P\"+str(i+1)]= d\n",
    "        distance['P'+str(i+1)] = distance['P'+str(i+1)][distance['P'+str(i+1)][:,1].argsort()]\n",
    "    return distance"
   ]
  },
  {
   "cell_type": "code",
   "execution_count": null,
   "id": "d94abb11",
   "metadata": {},
   "outputs": [],
   "source": [
    "alphabets=['A','B','C','D','E','F','G','H','I','J','K','L','M','N','O','P','Q','R','S','T','U','V','W','X','Y','Z']\n",
    "for i in range(1,20):\n",
    "    print(\"Training for alphabet : \",alphabets[i-1])\n",
    "    X = train_dictionary['D'+str(i)][0]\n",
    "    Y = train_dictionary['D'+str(i)][1]\n",
    "    X_test = test_dictionary['D'+str(i)][0]\n",
    "    Y_test = test_dictionary['D'+str(i)][1]\n",
    "    d = DISTANCE(X,X_test)\n",
    "    correct = 0\n",
    "    for j in range(X_test.shape[0]):\n",
    "        ind  = d['P'+str(i+1)][0][0]\n",
    "        Y_answer = Y[ind]\n",
    "        Y_test_answer = Y_test[j]\n",
    "        if Y_answer == Y_test_answer :\n",
    "            correct +=1\n",
    "        else:\n",
    "            correct +=0\n",
    "                \n",
    "            \n",
    "    accuracy = correct/X_test.shape[0]\n",
    "    alphabet = alphabets[i-1]\n",
    "    print(f\"Score for {alphabet} is \",accuracy)"
   ]
  },
  {
   "cell_type": "code",
   "execution_count": null,
   "id": "53efe917",
   "metadata": {},
   "outputs": [],
   "source": [
    "\n"
   ]
  },
  {
   "cell_type": "code",
   "execution_count": null,
   "id": "44f6cdb6",
   "metadata": {},
   "outputs": [],
   "source": []
  }
 ],
 "metadata": {
  "kernelspec": {
   "display_name": "Python 3 (ipykernel)",
   "language": "python",
   "name": "python3"
  },
  "language_info": {
   "codemirror_mode": {
    "name": "ipython",
    "version": 3
   },
   "file_extension": ".py",
   "mimetype": "text/x-python",
   "name": "python",
   "nbconvert_exporter": "python",
   "pygments_lexer": "ipython3",
   "version": "3.8.1"
  }
 },
 "nbformat": 4,
 "nbformat_minor": 5
}
