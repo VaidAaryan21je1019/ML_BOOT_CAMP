{
 "cells": [
  {
   "cell_type": "code",
   "execution_count": null,
   "id": "59fed419",
   "metadata": {},
   "outputs": [],
   "source": []
  },
  {
   "cell_type": "code",
   "execution_count": 2,
   "id": "8e4d48f5",
   "metadata": {},
   "outputs": [],
   "source": [
    "import numpy as np\n",
    "import pandas as pd\n",
    "import matplotlib.pyplot as plt"
   ]
  },
  {
   "cell_type": "code",
   "execution_count": 3,
   "id": "487b0610",
   "metadata": {},
   "outputs": [],
   "source": [
    "df=pd.read_csv(\"emnist-letters-train.csv\")"
   ]
  },
  {
   "cell_type": "code",
   "execution_count": 6,
   "id": "3328c9d9",
   "metadata": {},
   "outputs": [],
   "source": [
    "X_train=np.array(df.iloc[:,1:785])"
   ]
  },
  {
   "cell_type": "code",
   "execution_count": 7,
   "id": "0524b95e",
   "metadata": {},
   "outputs": [],
   "source": [
    "Y_train=np.array(df.iloc[:,0])"
   ]
  },
  {
   "cell_type": "code",
   "execution_count": 1,
   "id": "4d7d8381",
   "metadata": {},
   "outputs": [
    {
     "ename": "IndentationError",
     "evalue": "expected an indented block (1100532061.py, line 6)",
     "output_type": "error",
     "traceback": [
      "\u001b[1;36m  Input \u001b[1;32mIn [1]\u001b[1;36m\u001b[0m\n\u001b[1;33m    distances=np.sum(np.square(centroids[i,:]-x[j,:]))\u001b[0m\n\u001b[1;37m    ^\u001b[0m\n\u001b[1;31mIndentationError\u001b[0m\u001b[1;31m:\u001b[0m expected an indented block\n"
     ]
    }
   ],
   "source": [
    "def kmeans(x,k,no_of_iterations):\n",
    "    idx=np.random.choice(len(x),K,replace=false)\n",
    "    centroids=x[idx,:]\n",
    "    for i in range(k):\n",
    "        for j in range(89999):\n",
    "    distances=np.sum(np.square(centroids[i,:]-x[j,:]))\n",
    "    points=np.array([np.argmin(i) for i in distances])\n",
    "    \n",
    "    "
   ]
  },
  {
   "cell_type": "code",
   "execution_count": null,
   "id": "7a4570bb",
   "metadata": {},
   "outputs": [],
   "source": []
  }
 ],
 "metadata": {
  "kernelspec": {
   "display_name": "Python 3 (ipykernel)",
   "language": "python",
   "name": "python3"
  },
  "language_info": {
   "codemirror_mode": {
    "name": "ipython",
    "version": 3
   },
   "file_extension": ".py",
   "mimetype": "text/x-python",
   "name": "python",
   "nbconvert_exporter": "python",
   "pygments_lexer": "ipython3",
   "version": "3.8.1"
  }
 },
 "nbformat": 4,
 "nbformat_minor": 5
}
