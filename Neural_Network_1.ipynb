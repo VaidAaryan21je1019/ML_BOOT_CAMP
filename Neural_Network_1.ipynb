{
 "cells": [
  {
   "cell_type": "code",
   "execution_count": 2,
   "id": "a1198e3d",
   "metadata": {},
   "outputs": [],
   "source": [
    "import numpy as np\n",
    "import pandas as pd\n",
    "import matplotlib.pyplot as plt"
   ]
  },
  {
   "cell_type": "code",
   "execution_count": 3,
   "id": "dbef5931",
   "metadata": {},
   "outputs": [
    {
     "name": "stdout",
     "output_type": "stream",
     "text": [
      "   23  0  0.1  0.2  0.3  0.4  0.5  0.6  0.7  0.8  ...  0.406  0.407  0.408  \\\n",
      "0   7  0    0    0    0    0    0    0    0    0  ...      0      0      0   \n",
      "1  16  0    0    0    0    0    0    0    0    0  ...      0      0      0   \n",
      "2  15  0    0    0    0    0    0    0    0    0  ...      0      0      0   \n",
      "3  23  0    0    0    0    0    0    0    0    0  ...      0      0      0   \n",
      "4  17  0    0    0    0    0    0    0    0    0  ...      0      0      0   \n",
      "\n",
      "   0.409  0.410  0.411  0.412  0.413  0.414  0.415  \n",
      "0      0      0      0      0      0      0      0  \n",
      "1      0      0      0      0      0      0      0  \n",
      "2      0      0      0      0      0      0      0  \n",
      "3      0      0      0      0      0      0      0  \n",
      "4      0      0      0      0      0      0      0  \n",
      "\n",
      "[5 rows x 785 columns]\n"
     ]
    }
   ],
   "source": [
    "df=pd.read_csv(\"emnist-letters-train.csv\")\n",
    "print(df.head())"
   ]
  },
  {
   "cell_type": "code",
   "execution_count": 4,
   "id": "c3807376",
   "metadata": {},
   "outputs": [
    {
     "data": {
      "text/html": [
       "<div>\n",
       "<style scoped>\n",
       "    .dataframe tbody tr th:only-of-type {\n",
       "        vertical-align: middle;\n",
       "    }\n",
       "\n",
       "    .dataframe tbody tr th {\n",
       "        vertical-align: top;\n",
       "    }\n",
       "\n",
       "    .dataframe thead th {\n",
       "        text-align: right;\n",
       "    }\n",
       "</style>\n",
       "<table border=\"1\" class=\"dataframe\">\n",
       "  <thead>\n",
       "    <tr style=\"text-align: right;\">\n",
       "      <th></th>\n",
       "      <th>1</th>\n",
       "      <th>0</th>\n",
       "      <th>0.1</th>\n",
       "      <th>0.2</th>\n",
       "      <th>0.3</th>\n",
       "      <th>0.4</th>\n",
       "      <th>0.5</th>\n",
       "      <th>0.6</th>\n",
       "      <th>0.7</th>\n",
       "      <th>0.8</th>\n",
       "      <th>...</th>\n",
       "      <th>0.548</th>\n",
       "      <th>0.549</th>\n",
       "      <th>0.550</th>\n",
       "      <th>0.551</th>\n",
       "      <th>0.552</th>\n",
       "      <th>0.553</th>\n",
       "      <th>0.554</th>\n",
       "      <th>0.555</th>\n",
       "      <th>0.556</th>\n",
       "      <th>0.557</th>\n",
       "    </tr>\n",
       "  </thead>\n",
       "  <tbody>\n",
       "    <tr>\n",
       "      <th>0</th>\n",
       "      <td>1</td>\n",
       "      <td>0</td>\n",
       "      <td>0</td>\n",
       "      <td>0</td>\n",
       "      <td>0</td>\n",
       "      <td>0</td>\n",
       "      <td>0</td>\n",
       "      <td>0</td>\n",
       "      <td>0</td>\n",
       "      <td>0</td>\n",
       "      <td>...</td>\n",
       "      <td>0</td>\n",
       "      <td>0</td>\n",
       "      <td>0</td>\n",
       "      <td>0</td>\n",
       "      <td>0</td>\n",
       "      <td>0</td>\n",
       "      <td>0</td>\n",
       "      <td>0</td>\n",
       "      <td>0</td>\n",
       "      <td>0</td>\n",
       "    </tr>\n",
       "    <tr>\n",
       "      <th>1</th>\n",
       "      <td>1</td>\n",
       "      <td>0</td>\n",
       "      <td>0</td>\n",
       "      <td>0</td>\n",
       "      <td>0</td>\n",
       "      <td>0</td>\n",
       "      <td>0</td>\n",
       "      <td>0</td>\n",
       "      <td>0</td>\n",
       "      <td>0</td>\n",
       "      <td>...</td>\n",
       "      <td>0</td>\n",
       "      <td>0</td>\n",
       "      <td>0</td>\n",
       "      <td>0</td>\n",
       "      <td>0</td>\n",
       "      <td>0</td>\n",
       "      <td>0</td>\n",
       "      <td>0</td>\n",
       "      <td>0</td>\n",
       "      <td>0</td>\n",
       "    </tr>\n",
       "    <tr>\n",
       "      <th>2</th>\n",
       "      <td>1</td>\n",
       "      <td>0</td>\n",
       "      <td>0</td>\n",
       "      <td>0</td>\n",
       "      <td>0</td>\n",
       "      <td>0</td>\n",
       "      <td>0</td>\n",
       "      <td>0</td>\n",
       "      <td>0</td>\n",
       "      <td>0</td>\n",
       "      <td>...</td>\n",
       "      <td>0</td>\n",
       "      <td>0</td>\n",
       "      <td>0</td>\n",
       "      <td>0</td>\n",
       "      <td>0</td>\n",
       "      <td>0</td>\n",
       "      <td>0</td>\n",
       "      <td>0</td>\n",
       "      <td>0</td>\n",
       "      <td>0</td>\n",
       "    </tr>\n",
       "    <tr>\n",
       "      <th>3</th>\n",
       "      <td>1</td>\n",
       "      <td>0</td>\n",
       "      <td>0</td>\n",
       "      <td>0</td>\n",
       "      <td>0</td>\n",
       "      <td>0</td>\n",
       "      <td>0</td>\n",
       "      <td>0</td>\n",
       "      <td>0</td>\n",
       "      <td>0</td>\n",
       "      <td>...</td>\n",
       "      <td>0</td>\n",
       "      <td>0</td>\n",
       "      <td>0</td>\n",
       "      <td>0</td>\n",
       "      <td>0</td>\n",
       "      <td>0</td>\n",
       "      <td>0</td>\n",
       "      <td>0</td>\n",
       "      <td>0</td>\n",
       "      <td>0</td>\n",
       "    </tr>\n",
       "    <tr>\n",
       "      <th>4</th>\n",
       "      <td>1</td>\n",
       "      <td>0</td>\n",
       "      <td>0</td>\n",
       "      <td>0</td>\n",
       "      <td>0</td>\n",
       "      <td>0</td>\n",
       "      <td>0</td>\n",
       "      <td>0</td>\n",
       "      <td>0</td>\n",
       "      <td>0</td>\n",
       "      <td>...</td>\n",
       "      <td>0</td>\n",
       "      <td>0</td>\n",
       "      <td>0</td>\n",
       "      <td>0</td>\n",
       "      <td>0</td>\n",
       "      <td>0</td>\n",
       "      <td>0</td>\n",
       "      <td>0</td>\n",
       "      <td>0</td>\n",
       "      <td>0</td>\n",
       "    </tr>\n",
       "  </tbody>\n",
       "</table>\n",
       "<p>5 rows × 785 columns</p>\n",
       "</div>"
      ],
      "text/plain": [
       "   1  0  0.1  0.2  0.3  0.4  0.5  0.6  0.7  0.8  ...  0.548  0.549  0.550  \\\n",
       "0  1  0    0    0    0    0    0    0    0    0  ...      0      0      0   \n",
       "1  1  0    0    0    0    0    0    0    0    0  ...      0      0      0   \n",
       "2  1  0    0    0    0    0    0    0    0    0  ...      0      0      0   \n",
       "3  1  0    0    0    0    0    0    0    0    0  ...      0      0      0   \n",
       "4  1  0    0    0    0    0    0    0    0    0  ...      0      0      0   \n",
       "\n",
       "   0.551  0.552  0.553  0.554  0.555  0.556  0.557  \n",
       "0      0      0      0      0      0      0      0  \n",
       "1      0      0      0      0      0      0      0  \n",
       "2      0      0      0      0      0      0      0  \n",
       "3      0      0      0      0      0      0      0  \n",
       "4      0      0      0      0      0      0      0  \n",
       "\n",
       "[5 rows x 785 columns]"
      ]
     },
     "execution_count": 4,
     "metadata": {},
     "output_type": "execute_result"
    }
   ],
   "source": [
    "sf=pd.read_csv(\"emnist-letters-test.csv\")\n",
    "sf.head()"
   ]
  },
  {
   "cell_type": "code",
   "execution_count": 5,
   "id": "b8b6e14d",
   "metadata": {},
   "outputs": [],
   "source": [
    "X=np.array(df.iloc[1:-1])"
   ]
  },
  {
   "cell_type": "code",
   "execution_count": 6,
   "id": "ddc30f23",
   "metadata": {},
   "outputs": [],
   "source": [
    "Y=np.array(df.iloc[:,0])"
   ]
  },
  {
   "cell_type": "code",
   "execution_count": 13,
   "id": "8eb135a6",
   "metadata": {},
   "outputs": [],
   "source": [
    "number_of_input_layer_neurons=X.shape[1]\n",
    "number_of_hidden_layer_neurons1=number_of_input_layer_neurons*2\n",
    "number_of_hidden_layer_neurons2=number_of_input_layer_neurons*2\n",
    "a=np.unique(Y)\n",
    "number_of_output_layer_neurons=len(a)"
   ]
  },
  {
   "cell_type": "code",
   "execution_count": 14,
   "id": "2b1fe6a4",
   "metadata": {},
   "outputs": [],
   "source": [
    "weights_input_Layer=np.random.randn(number_of_input_layer_neurons,number_of_hidden_layer_neurons)\n",
    "weights_hidden_output1=np.random.randn(number_of_hidden_layer_neurons1,number_of_hidden_layer_neurons2)\n",
    "weights_hidden_output2=np.random.randn(number_of_hidden_layer_neurons2,number_of_output_layer_neurons)"
   ]
  },
  {
   "cell_type": "code",
   "execution_count": null,
   "id": "d5fbcc02",
   "metadata": {},
   "outputs": [],
   "source": [
    "weights_input_Layer="
   ]
  },
  {
   "cell_type": "code",
   "execution_count": null,
   "id": "7186bf89",
   "metadata": {},
   "outputs": [],
   "source": [
    "def scaleMatrix():\n"
   ]
  },
  {
   "cell_type": "code",
   "execution_count": null,
   "id": "49b4f971",
   "metadata": {},
   "outputs": [],
   "source": [
    "def descaleMatrix():\n",
    "   "
   ]
  },
  {
   "cell_type": "code",
   "execution_count": null,
   "id": "4b1ef73b",
   "metadata": {},
   "outputs": [],
   "source": [
    "#shape of X=m,n+1\n",
    "#shape of theta=n+1,2(n+1)"
   ]
  },
  {
   "cell_type": "code",
   "execution_count": null,
   "id": "3f58cd7a",
   "metadata": {},
   "outputs": [],
   "source": [
    "def hypothesis(X,theta):\n",
    "    z=np.dot(X,theta)\n",
    "    return z"
   ]
  },
  {
   "cell_type": "code",
   "execution_count": null,
   "id": "6292d63e",
   "metadata": {},
   "outputs": [],
   "source": [
    "def sigmoid(X,theta):\n",
    "    z=hypothesis(X,theta)\n",
    "    g=1/(1+np.exp(-z))"
   ]
  },
  {
   "cell_type": "code",
   "execution_count": null,
   "id": "acc5023e",
   "metadata": {},
   "outputs": [],
   "source": [
    "def sigmoid_gradient(z):\n",
    "    return sigmoid(z)*sigmoid(1-z)"
   ]
  },
  {
   "cell_type": "code",
   "execution_count": 15,
   "id": "df0e1206",
   "metadata": {},
   "outputs": [],
   "source": [
    "a1=np.insert(X,0,1,axis=1)\n",
    "a1=a1.T"
   ]
  },
  {
   "cell_type": "code",
   "execution_count": null,
   "id": "d2f766d9",
   "metadata": {},
   "outputs": [],
   "source": [
    "z2=np.dot(a1,theta1.transpose)"
   ]
  },
  {
   "cell_type": "code",
   "execution_count": null,
   "id": "7aba653f",
   "metadata": {},
   "outputs": [],
   "source": [
    "a2=sigmoid(z2)"
   ]
  },
  {
   "cell_type": "code",
   "execution_count": null,
   "id": "1482de0a",
   "metadata": {},
   "outputs": [],
   "source": [
    "a2=np.insert(a2,0,1,axis=1)"
   ]
  },
  {
   "cell_type": "code",
   "execution_count": null,
   "id": "2f8d92ea",
   "metadata": {},
   "outputs": [],
   "source": [
    "z3=np.dot(a2,)"
   ]
  },
  {
   "cell_type": "code",
   "execution_count": null,
   "id": "2e18b7e4",
   "metadata": {},
   "outputs": [],
   "source": []
  },
  {
   "cell_type": "code",
   "execution_count": null,
   "id": "965d6ae5",
   "metadata": {},
   "outputs": [],
   "source": []
  }
 ],
 "metadata": {
  "kernelspec": {
   "display_name": "Python 3 (ipykernel)",
   "language": "python",
   "name": "python3"
  },
  "language_info": {
   "codemirror_mode": {
    "name": "ipython",
    "version": 3
   },
   "file_extension": ".py",
   "mimetype": "text/x-python",
   "name": "python",
   "nbconvert_exporter": "python",
   "pygments_lexer": "ipython3",
   "version": "3.8.1"
  }
 },
 "nbformat": 4,
 "nbformat_minor": 5
}
